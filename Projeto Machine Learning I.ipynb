{
 "cells": [
  {
   "cell_type": "markdown",
   "id": "f34a5830",
   "metadata": {},
   "source": [
    "# Projeto - Machine Learning I\n",
    "#### `Professor`: Alex Lima"
   ]
  },
  {
   "cell_type": "markdown",
   "id": "10c548c6",
   "metadata": {},
   "source": [
    "Este documento descreve os requisitos e critérios de avaliação para projeto de Machine Learning I.\n",
    "\n",
    "A principal finalidade deste projeto é fazer com o aluno pratique a exploração e modelagem de dados apresentados ao longo do modelo de machine learning I. Assim, durante o planejamento e desenvolvimento de seu projeto, recomenda-se visitar a ementa do módulo e mapear em seu projeto os itens previstos e lecionados em aula.\n",
    "\n",
    "**DESAFIO**: Seu desafio neste módulo é conhecer uma área de negócio ou ciência de seu interesse e propor uma solução por meio de um modelo de machine learning. A solução deve ser apresentada prlo grupo no último dia de aula e detalhada em um report (jupyter notebook). Como referência, a equipe pode seguir os passos descritos a seguir:\n",
    " - `Introdução`\n",
    "     > Descreva a área e a solução proposta em seu projeto\n",
    " - `Coleta de dados`\n",
    "     > Busque ou construa um dataset relacionado ao problema que deseja solucionar.\n",
    " - `Desenvolvimento`\n",
    "     > Desenvolva um modelo de machine learning, utilizando o algoritmo de sua escolha. Inclua métricas e visualizações que tornem seu modelo atrativo e compreensível para que não é da área de dados.\n",
    " - `Apresentação`\n",
    "     > A apresentação deve ocorrer no último dia de aula (29/04). A equipe terá até 20 minutos para apresentar sua solução.\n",
    "  \n",
    "### Bons estudos! Sucesso!\n"
   ]
  },
  {
   "cell_type": "markdown",
   "id": "51084756",
   "metadata": {},
   "source": []
  },
  {
   "cell_type": "code",
   "execution_count": 1,
   "id": "05338575",
   "metadata": {},
   "outputs": [],
   "source": [
    "import pandas as pd\n",
    "import numpy as np\n",
    "import matplotlib.pyplot as plt\n",
    "from math import sqrt\n",
    "from typing import Dict"
   ]
  },
  {
   "cell_type": "markdown",
   "id": "b420beb5",
   "metadata": {},
   "source": [
    "### Criando Dataset"
   ]
  },
  {
   "cell_type": "code",
   "execution_count": 2,
   "id": "2856574a",
   "metadata": {},
   "outputs": [
    {
     "data": {
      "text/html": [
       "<div>\n",
       "<style scoped>\n",
       "    .dataframe tbody tr th:only-of-type {\n",
       "        vertical-align: middle;\n",
       "    }\n",
       "\n",
       "    .dataframe tbody tr th {\n",
       "        vertical-align: top;\n",
       "    }\n",
       "\n",
       "    .dataframe thead th {\n",
       "        text-align: right;\n",
       "    }\n",
       "</style>\n",
       "<table border=\"1\" class=\"dataframe\">\n",
       "  <thead>\n",
       "    <tr style=\"text-align: right;\">\n",
       "      <th></th>\n",
       "      <th>Width</th>\n",
       "      <th>Height</th>\n",
       "      <th>Class</th>\n",
       "    </tr>\n",
       "  </thead>\n",
       "  <tbody>\n",
       "    <tr>\n",
       "      <th>0</th>\n",
       "      <td>4.144763</td>\n",
       "      <td>19.158677</td>\n",
       "      <td>Banana</td>\n",
       "    </tr>\n",
       "    <tr>\n",
       "      <th>1</th>\n",
       "      <td>5.938636</td>\n",
       "      <td>17.439117</td>\n",
       "      <td>Banana</td>\n",
       "    </tr>\n",
       "    <tr>\n",
       "      <th>2</th>\n",
       "      <td>4.844042</td>\n",
       "      <td>23.469492</td>\n",
       "      <td>Banana</td>\n",
       "    </tr>\n",
       "    <tr>\n",
       "      <th>3</th>\n",
       "      <td>4.403160</td>\n",
       "      <td>17.797089</td>\n",
       "      <td>Banana</td>\n",
       "    </tr>\n",
       "    <tr>\n",
       "      <th>4</th>\n",
       "      <td>6.634853</td>\n",
       "      <td>21.341232</td>\n",
       "      <td>Banana</td>\n",
       "    </tr>\n",
       "    <tr>\n",
       "      <th>...</th>\n",
       "      <td>...</td>\n",
       "      <td>...</td>\n",
       "      <td>...</td>\n",
       "    </tr>\n",
       "    <tr>\n",
       "      <th>795</th>\n",
       "      <td>1.661072</td>\n",
       "      <td>1.432325</td>\n",
       "      <td>Grape</td>\n",
       "    </tr>\n",
       "    <tr>\n",
       "      <th>796</th>\n",
       "      <td>1.321296</td>\n",
       "      <td>1.621006</td>\n",
       "      <td>Grape</td>\n",
       "    </tr>\n",
       "    <tr>\n",
       "      <th>797</th>\n",
       "      <td>2.295418</td>\n",
       "      <td>2.003155</td>\n",
       "      <td>Grape</td>\n",
       "    </tr>\n",
       "    <tr>\n",
       "      <th>798</th>\n",
       "      <td>1.454979</td>\n",
       "      <td>1.562081</td>\n",
       "      <td>Grape</td>\n",
       "    </tr>\n",
       "    <tr>\n",
       "      <th>799</th>\n",
       "      <td>2.759323</td>\n",
       "      <td>1.861289</td>\n",
       "      <td>Grape</td>\n",
       "    </tr>\n",
       "  </tbody>\n",
       "</table>\n",
       "<p>800 rows × 3 columns</p>\n",
       "</div>"
      ],
      "text/plain": [
       "        Width     Height   Class\n",
       "0    4.144763  19.158677  Banana\n",
       "1    5.938636  17.439117  Banana\n",
       "2    4.844042  23.469492  Banana\n",
       "3    4.403160  17.797089  Banana\n",
       "4    6.634853  21.341232  Banana\n",
       "..        ...        ...     ...\n",
       "795  1.661072   1.432325   Grape\n",
       "796  1.321296   1.621006   Grape\n",
       "797  2.295418   2.003155   Grape\n",
       "798  1.454979   1.562081   Grape\n",
       "799  2.759323   1.861289   Grape\n",
       "\n",
       "[800 rows x 3 columns]"
      ]
     },
     "execution_count": 2,
     "metadata": {},
     "output_type": "execute_result"
    }
   ],
   "source": [
    "size = 100\n",
    "# Dados de entrada sobre as frutas para a geração dos dados aleatórios.\n",
    "inputs = [{'Class':     'Banana', 'Mean_height': 18, 'Std_height':   3, 'Mean_width':  5, 'Std_width':   1},\n",
    "          {'Class':      'Apple', 'Mean_height': 10, 'Std_height': 1.5, 'Mean_width': 12, 'Std_width': 1.5},\n",
    "          {'Class':      'Lemon', 'Mean_height':  5, 'Std_height':   1, 'Mean_width':  5, 'Std_width':   1},\n",
    "          {'Class': 'Watermelon', 'Mean_height': 20, 'Std_height': 2.5, 'Mean_width': 25, 'Std_width':   3},\n",
    "          {'Class':     'Papaya', 'Mean_height': 28, 'Std_height':   3, 'Mean_width': 15, 'Std_width':   2},\n",
    "          {'Class':      'Mango', 'Mean_height': 17, 'Std_height': 1.5, 'Mean_width': 12, 'Std_width': 1.5},\n",
    "          {'Class': 'Strawberry', 'Mean_height':  4, 'Std_height': 0.5, 'Mean_width':  2, 'Std_width': 0.5},\n",
    "          {'Class':      'Grape', 'Mean_height':  2, 'Std_height': 0.5, 'Mean_width':  2, 'Std_width': 0.5}]\n",
    "\n",
    "heights = np.array([])\n",
    "widths = np.array([])\n",
    "classes = []\n",
    "# Para cada entrada, acessa a média e o desvio padrão da altura e largura de cada\n",
    "# fruta e gera uma amostra com base da distribuição normal desses dados.\n",
    "for input_i in inputs:\n",
    "  loc_h   = input_i['Mean_height']\n",
    "  scale_h = input_i['Std_height']\n",
    "  height = np.random.normal(loc=loc_h, scale=scale_h, size=size)\n",
    "  heights = np.concatenate([heights, height])\n",
    "\n",
    "  loc_w   = input_i['Mean_width']\n",
    "  scale_w = input_i['Std_width']\n",
    "  width  = np.random.normal(loc=loc_w, scale=scale_w, size=size)\n",
    "  widths = np.concatenate([widths, width])\n",
    "\n",
    "  classes += [input_i['Class']] * size\n",
    "\n",
    "\n",
    "# Criando um DataFrame com os dados\n",
    "df = pd.DataFrame({\n",
    "    'Width': widths,\n",
    "    'Height': heights,\n",
    "    'Class': classes\n",
    "})\n",
    "\n",
    "df"
   ]
  },
  {
   "cell_type": "code",
   "execution_count": 7,
   "id": "95a20b72",
   "metadata": {},
   "outputs": [],
   "source": [
    "X = df[df.columns[:-1]]\n",
    "y = df[df.columns[-1]]"
   ]
  },
  {
   "cell_type": "code",
   "execution_count": 8,
   "id": "d8db60bc",
   "metadata": {},
   "outputs": [],
   "source": [
    "from sklearn.neighbors import KNeighborsClassifier\n",
    "from sklearn.model_selection import train_test_split\n"
   ]
  },
  {
   "cell_type": "code",
   "execution_count": 9,
   "id": "d4f0e4f0",
   "metadata": {},
   "outputs": [],
   "source": [
    "X_train, X_test, y_train, y_test = train_test_split(X, y, test_size=0.3, random_state=42)"
   ]
  },
  {
   "cell_type": "code",
   "execution_count": 10,
   "id": "3f9ccc4e",
   "metadata": {},
   "outputs": [],
   "source": [
    "model_knn = KNeighborsClassifier(n_neighbors=5)"
   ]
  },
  {
   "cell_type": "code",
   "execution_count": 11,
   "id": "e82c8863",
   "metadata": {},
   "outputs": [
    {
     "data": {
      "text/html": [
       "<style>#sk-container-id-1 {color: black;}#sk-container-id-1 pre{padding: 0;}#sk-container-id-1 div.sk-toggleable {background-color: white;}#sk-container-id-1 label.sk-toggleable__label {cursor: pointer;display: block;width: 100%;margin-bottom: 0;padding: 0.3em;box-sizing: border-box;text-align: center;}#sk-container-id-1 label.sk-toggleable__label-arrow:before {content: \"▸\";float: left;margin-right: 0.25em;color: #696969;}#sk-container-id-1 label.sk-toggleable__label-arrow:hover:before {color: black;}#sk-container-id-1 div.sk-estimator:hover label.sk-toggleable__label-arrow:before {color: black;}#sk-container-id-1 div.sk-toggleable__content {max-height: 0;max-width: 0;overflow: hidden;text-align: left;background-color: #f0f8ff;}#sk-container-id-1 div.sk-toggleable__content pre {margin: 0.2em;color: black;border-radius: 0.25em;background-color: #f0f8ff;}#sk-container-id-1 input.sk-toggleable__control:checked~div.sk-toggleable__content {max-height: 200px;max-width: 100%;overflow: auto;}#sk-container-id-1 input.sk-toggleable__control:checked~label.sk-toggleable__label-arrow:before {content: \"▾\";}#sk-container-id-1 div.sk-estimator input.sk-toggleable__control:checked~label.sk-toggleable__label {background-color: #d4ebff;}#sk-container-id-1 div.sk-label input.sk-toggleable__control:checked~label.sk-toggleable__label {background-color: #d4ebff;}#sk-container-id-1 input.sk-hidden--visually {border: 0;clip: rect(1px 1px 1px 1px);clip: rect(1px, 1px, 1px, 1px);height: 1px;margin: -1px;overflow: hidden;padding: 0;position: absolute;width: 1px;}#sk-container-id-1 div.sk-estimator {font-family: monospace;background-color: #f0f8ff;border: 1px dotted black;border-radius: 0.25em;box-sizing: border-box;margin-bottom: 0.5em;}#sk-container-id-1 div.sk-estimator:hover {background-color: #d4ebff;}#sk-container-id-1 div.sk-parallel-item::after {content: \"\";width: 100%;border-bottom: 1px solid gray;flex-grow: 1;}#sk-container-id-1 div.sk-label:hover label.sk-toggleable__label {background-color: #d4ebff;}#sk-container-id-1 div.sk-serial::before {content: \"\";position: absolute;border-left: 1px solid gray;box-sizing: border-box;top: 0;bottom: 0;left: 50%;z-index: 0;}#sk-container-id-1 div.sk-serial {display: flex;flex-direction: column;align-items: center;background-color: white;padding-right: 0.2em;padding-left: 0.2em;position: relative;}#sk-container-id-1 div.sk-item {position: relative;z-index: 1;}#sk-container-id-1 div.sk-parallel {display: flex;align-items: stretch;justify-content: center;background-color: white;position: relative;}#sk-container-id-1 div.sk-item::before, #sk-container-id-1 div.sk-parallel-item::before {content: \"\";position: absolute;border-left: 1px solid gray;box-sizing: border-box;top: 0;bottom: 0;left: 50%;z-index: -1;}#sk-container-id-1 div.sk-parallel-item {display: flex;flex-direction: column;z-index: 1;position: relative;background-color: white;}#sk-container-id-1 div.sk-parallel-item:first-child::after {align-self: flex-end;width: 50%;}#sk-container-id-1 div.sk-parallel-item:last-child::after {align-self: flex-start;width: 50%;}#sk-container-id-1 div.sk-parallel-item:only-child::after {width: 0;}#sk-container-id-1 div.sk-dashed-wrapped {border: 1px dashed gray;margin: 0 0.4em 0.5em 0.4em;box-sizing: border-box;padding-bottom: 0.4em;background-color: white;}#sk-container-id-1 div.sk-label label {font-family: monospace;font-weight: bold;display: inline-block;line-height: 1.2em;}#sk-container-id-1 div.sk-label-container {text-align: center;}#sk-container-id-1 div.sk-container {/* jupyter's `normalize.less` sets `[hidden] { display: none; }` but bootstrap.min.css set `[hidden] { display: none !important; }` so we also need the `!important` here to be able to override the default hidden behavior on the sphinx rendered scikit-learn.org. See: https://github.com/scikit-learn/scikit-learn/issues/21755 */display: inline-block !important;position: relative;}#sk-container-id-1 div.sk-text-repr-fallback {display: none;}</style><div id=\"sk-container-id-1\" class=\"sk-top-container\"><div class=\"sk-text-repr-fallback\"><pre>KNeighborsClassifier()</pre><b>In a Jupyter environment, please rerun this cell to show the HTML representation or trust the notebook. <br />On GitHub, the HTML representation is unable to render, please try loading this page with nbviewer.org.</b></div><div class=\"sk-container\" hidden><div class=\"sk-item\"><div class=\"sk-estimator sk-toggleable\"><input class=\"sk-toggleable__control sk-hidden--visually\" id=\"sk-estimator-id-1\" type=\"checkbox\" checked><label for=\"sk-estimator-id-1\" class=\"sk-toggleable__label sk-toggleable__label-arrow\">KNeighborsClassifier</label><div class=\"sk-toggleable__content\"><pre>KNeighborsClassifier()</pre></div></div></div></div></div>"
      ],
      "text/plain": [
       "KNeighborsClassifier()"
      ]
     },
     "execution_count": 11,
     "metadata": {},
     "output_type": "execute_result"
    }
   ],
   "source": [
    "model_knn.fit(X_train,y_train)"
   ]
  },
  {
   "cell_type": "code",
   "execution_count": 12,
   "id": "c5650d0f",
   "metadata": {},
   "outputs": [],
   "source": [
    "from sklearn.metrics import accuracy_score, confusion_matrix, classification_report"
   ]
  },
  {
   "cell_type": "code",
   "execution_count": 13,
   "id": "e0006b5b",
   "metadata": {},
   "outputs": [],
   "source": [
    "y_pred = model_knn.predict(X_test)"
   ]
  },
  {
   "cell_type": "code",
   "execution_count": 16,
   "id": "d1cd088f",
   "metadata": {},
   "outputs": [
    {
     "name": "stdout",
     "output_type": "stream",
     "text": [
      "Acurácia teste: 97.50%\n"
     ]
    }
   ],
   "source": [
    "print(\"Acurácia teste: %.2f%%\" % (accuracy_score(y_test, y_pred) * 100.0))"
   ]
  },
  {
   "cell_type": "code",
   "execution_count": 17,
   "id": "69a3d456",
   "metadata": {},
   "outputs": [
    {
     "name": "stdout",
     "output_type": "stream",
     "text": [
      "Acurácia treino: 98.57%\n"
     ]
    }
   ],
   "source": [
    "print(\"Acurácia treino: %.2f%%\" % (accuracy_score(y_train, model_knn.predict(X_train) ) * 100.0))"
   ]
  },
  {
   "cell_type": "code",
   "execution_count": 20,
   "id": "8f1a096f",
   "metadata": {},
   "outputs": [
    {
     "data": {
      "text/plain": [
       "array([[26,  0,  0,  0,  1,  0,  0,  0],\n",
       "       [ 0, 35,  0,  0,  0,  0,  0,  0],\n",
       "       [ 0,  0, 31,  0,  0,  0,  1,  0],\n",
       "       [ 0,  0,  0, 28,  0,  0,  1,  0],\n",
       "       [ 1,  0,  0,  0, 28,  1,  0,  0],\n",
       "       [ 0,  0,  0,  0,  0, 21,  0,  0],\n",
       "       [ 0,  0,  1,  0,  0,  0, 31,  0],\n",
       "       [ 0,  0,  0,  0,  0,  0,  0, 34]], dtype=int64)"
      ]
     },
     "execution_count": 20,
     "metadata": {},
     "output_type": "execute_result"
    }
   ],
   "source": [
    "confusion_matrix(y_test, y_pred)"
   ]
  },
  {
   "cell_type": "markdown",
   "id": "afd2d89c",
   "metadata": {},
   "source": [
    "### **Validação Cruzada**"
   ]
  },
  {
   "cell_type": "code",
   "execution_count": 22,
   "id": "6690bd2e",
   "metadata": {},
   "outputs": [],
   "source": [
    "from sklearn.model_selection import KFold\n",
    "from sklearn.model_selection import cross_val_score"
   ]
  },
  {
   "cell_type": "code",
   "execution_count": 23,
   "id": "85d3a940",
   "metadata": {},
   "outputs": [],
   "source": [
    "kfold = KFold(n_splits = 30, shuffle=True, random_state = 5)"
   ]
  },
  {
   "cell_type": "code",
   "execution_count": 24,
   "id": "b13cda3f",
   "metadata": {},
   "outputs": [
    {
     "name": "stdout",
     "output_type": "stream",
     "text": [
      "Acurácia Média: 98.11%\n"
     ]
    }
   ],
   "source": [
    "# Criando o modelo\n",
    "modelo = KNeighborsClassifier(n_neighbors=3)\n",
    "resultado = cross_val_score(modelo, X, y, cv = kfold)\n",
    "\n",
    "# Usamos a média e o desvio padrão\n",
    "print(\"Acurácia Média: %.2f%%\" % (resultado.mean() * 100.0))"
   ]
  },
  {
   "cell_type": "code",
   "execution_count": 19,
   "id": "1d2122e3",
   "metadata": {},
   "outputs": [
    {
     "name": "stdout",
     "output_type": "stream",
     "text": [
      "              precision    recall  f1-score   support\n",
      "\n",
      "       Apple       0.96      0.96      0.96        27\n",
      "      Banana       1.00      1.00      1.00        35\n",
      "       Grape       0.97      0.97      0.97        32\n",
      "       Lemon       1.00      0.97      0.98        29\n",
      "       Mango       0.97      0.93      0.95        30\n",
      "      Papaya       0.95      1.00      0.98        21\n",
      "  Strawberry       0.94      0.97      0.95        32\n",
      "  Watermelon       1.00      1.00      1.00        34\n",
      "\n",
      "    accuracy                           0.97       240\n",
      "   macro avg       0.97      0.97      0.97       240\n",
      "weighted avg       0.98      0.97      0.98       240\n",
      "\n"
     ]
    }
   ],
   "source": [
    "print(classification_report(y_test, y_pred))"
   ]
  },
  {
   "cell_type": "code",
   "execution_count": null,
   "id": "77572752",
   "metadata": {},
   "outputs": [],
   "source": []
  },
  {
   "cell_type": "code",
   "execution_count": null,
   "id": "b3f00d93",
   "metadata": {},
   "outputs": [],
   "source": []
  },
  {
   "cell_type": "markdown",
   "id": "87cd0914",
   "metadata": {},
   "source": [
    "### Implemetação algoritmo KNN\n"
   ]
  },
  {
   "cell_type": "code",
   "execution_count": null,
   "id": "d87cc1e7",
   "metadata": {},
   "outputs": [],
   "source": [
    "class KNN:\n",
    "  def __init__(self, data: pd.DataFrame):\n",
    "    self.data = data\n",
    "\n",
    "\n",
    "  def predict(self, p: Dict, k: int = 0) -> str:\n",
    "    \"\"\"\n",
    "    Define a classe de um ponto com base nos k vizinhos mais próximos.\n",
    "    Sendo a classe do ponto a classe predominante na vizinhança.\n",
    "    \"\"\"\n",
    "    if k <= 0:\n",
    "      k = int(sqrt(self.data.shape[0]))\n",
    "\n",
    "    x = p['Width']\n",
    "    y = p['Height']\n",
    "\n",
    "    dists = list()\n",
    "    # Calcula as distâncias de cada ponto\n",
    "    for index in range(df.shape[0]):\n",
    "      xi = self.data.loc[index, 'Width']\n",
    "      yi = self.data.loc[index, 'Height']\n",
    "      dist = sqrt((x-xi)**2 + (y-yi)**2)\n",
    "      # Guarda o índice e a distância para cada ponto\n",
    "      dists.append((index, dist))\n",
    "    # Ordena com base nas distâncias\n",
    "    dists.sort(key=lambda x: x[1])\n",
    "    # Guarda apenas os índices dos k vizinhos mais próximos\n",
    "    indexes = [dist[0] for dist in dists[:k]]\n",
    "    # Guarda as classes das linhas do DataFrame dos índices mais próximos\n",
    "    neighbors = self.data['Class'].iloc[indexes].tolist()\n",
    "    # Verifica a classe mais frequente. Em caso de mais de uma classe com frequência\n",
    "    # máxima, a que tiver um elemento mais próximo será considerada. (A primeira a aparecer)\n",
    "    max_count = 0\n",
    "    max_class = ''\n",
    "    for class_i in set(neighbors):\n",
    "      count = neighbors.count(class_i)\n",
    "      if count > max_count:\n",
    "        max_count = count\n",
    "        max_class = class_i\n",
    "    # Retorna a classe mais frequente\n",
    "    return max_class\n",
    "\n",
    "\n",
    "  def show(self, colors_dict):\n",
    "\n",
    "    # Obtém as cores de cada classe\n",
    "    colors = self.data['Class'].map(colors_dict)\n",
    "\n",
    "    # Gera o gráfico de dispersão\n",
    "    plt.scatter(self.data['Width'], self.data['Height'], c=colors, s=30)\n",
    "\n",
    "    plt.title('Altura e Largura de cada fruta')\n",
    "\n",
    "    plt.xlabel('Width')\n",
    "    plt.xlim(0, 40)\n",
    "    plt.xticks(range(0, 40, 2))\n",
    "\n",
    "    plt.ylabel('Height')\n",
    "    plt.ylim(0, 40)\n",
    "    plt.yticks(range(0, 40, 2))\n",
    "    # Adiciona a legenda ao gráfico\n",
    "    legend = []\n",
    "    for class_i, color in colors_dict.items():\n",
    "        legend.append(plt.Line2D([0], [0], marker='o', color='w', label=class_i,\n",
    "                                 markersize=10, markerfacecolor=color))\n",
    "    plt.legend(handles=legend)\n",
    "\n",
    "    plt.show()"
   ]
  },
  {
   "cell_type": "markdown",
   "id": "f3fe699c",
   "metadata": {},
   "source": []
  },
  {
   "cell_type": "code",
   "execution_count": null,
   "id": "84a29bcc",
   "metadata": {},
   "outputs": [],
   "source": []
  },
  {
   "cell_type": "code",
   "execution_count": null,
   "id": "85234794",
   "metadata": {},
   "outputs": [],
   "source": []
  },
  {
   "cell_type": "code",
   "execution_count": null,
   "id": "080230ec",
   "metadata": {},
   "outputs": [],
   "source": []
  },
  {
   "cell_type": "code",
   "execution_count": null,
   "id": "4920720c",
   "metadata": {},
   "outputs": [],
   "source": []
  },
  {
   "cell_type": "code",
   "execution_count": null,
   "id": "59ecd8ab",
   "metadata": {},
   "outputs": [],
   "source": []
  }
 ],
 "metadata": {
  "kernelspec": {
   "display_name": "Python 3 (ipykernel)",
   "language": "python",
   "name": "python3"
  },
  "language_info": {
   "codemirror_mode": {
    "name": "ipython",
    "version": 3
   },
   "file_extension": ".py",
   "mimetype": "text/x-python",
   "name": "python",
   "nbconvert_exporter": "python",
   "pygments_lexer": "ipython3",
   "version": "3.12.1"
  }
 },
 "nbformat": 4,
 "nbformat_minor": 5
}
